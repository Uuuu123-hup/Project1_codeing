{
  "nbformat": 4,
  "nbformat_minor": 0,
  "metadata": {
    "colab": {
      "provenance": [],
      "authorship_tag": "ABX9TyPO6tDf0HAlEwasX1zb3xhl",
      "include_colab_link": true
    },
    "kernelspec": {
      "name": "python3",
      "display_name": "Python 3"
    },
    "language_info": {
      "name": "python"
    }
  },
  "cells": [
    {
      "cell_type": "markdown",
      "metadata": {
        "id": "view-in-github",
        "colab_type": "text"
      },
      "source": [
        "<a href=\"https://colab.research.google.com/github/Uuuu123-hup/Project1_codeing/blob/main/17_tim.ipynb\" target=\"_parent\"><img src=\"https://colab.research.google.com/assets/colab-badge.svg\" alt=\"Open In Colab\"/></a>"
      ]
    },
    {
      "cell_type": "markdown",
      "source": [
        "# เลขที่17 ชื่อเล่นติม ชื่อ ตันติกร เจริญกิจรุ่งโรจน์\n",
        "# No. 17  Nickname Tim Name Tantikorn jaroenkitrungrot"
      ],
      "metadata": {
        "id": "Xw-jPypxcT9W"
      }
    },
    {
      "cell_type": "code",
      "source": [
        "print('สวัสดีครับ ผมชื่อติม🍦')"
      ],
      "metadata": {
        "colab": {
          "base_uri": "https://localhost:8080/"
        },
        "id": "1GOGY5kqBJa3",
        "outputId": "d59a6353-5eec-4292-aea9-eabda8aa03b1"
      },
      "execution_count": null,
      "outputs": [
        {
          "output_type": "stream",
          "name": "stdout",
          "text": [
            "สวัสดีครับ ผมชื่อติม🍦\n"
          ]
        }
      ]
    },
    {
      "cell_type": "code",
      "source": [
        "print('%f'%100)"
      ],
      "metadata": {
        "colab": {
          "base_uri": "https://localhost:8080/"
        },
        "id": "2fOAqb6k_iao",
        "outputId": "a2b423c0-30a2-4987-8615-211fb399e0c6"
      },
      "execution_count": null,
      "outputs": [
        {
          "output_type": "stream",
          "name": "stdout",
          "text": [
            "100.000000\n"
          ]
        }
      ]
    },
    {
      "cell_type": "markdown",
      "source": [
        "29 may 2024\n",
        " #ได้รู้เรื่อง type และ ตัวแปรร ตัวแปรต้องใช่ภาษาอังกฤษอย่างเดียว"
      ],
      "metadata": {
        "id": "zcTRcwCqZMXw"
      }
    },
    {
      "cell_type": "code",
      "source": [
        "a = 2\n",
        "b = 1.5\n",
        "c = \"Tim\"\n",
        "\n",
        "type(c)\n",
        "\n",
        "print(\"ตัวแปรที่ฉันคิด คือ heavy \")\n"
      ],
      "metadata": {
        "colab": {
          "base_uri": "https://localhost:8080/"
        },
        "id": "iU9YY2-MY2Xi",
        "outputId": "5558134f-2a0c-407b-f142-d5d447081a72"
      },
      "execution_count": null,
      "outputs": [
        {
          "output_type": "stream",
          "name": "stdout",
          "text": [
            "ตัวแปรที่ฉันคิด คือ นายฮาตาริ ทาโร \n"
          ]
        }
      ]
    },
    {
      "cell_type": "code",
      "source": [
        "numeric1 = 5\n",
        "print(\"numeric1\")\n",
        "type(numeric1)"
      ],
      "metadata": {
        "colab": {
          "base_uri": "https://localhost:8080/"
        },
        "id": "gphHMzPMkP2P",
        "outputId": "bcc153ab-ebec-4f4b-e625-5c0329432d6f"
      },
      "execution_count": null,
      "outputs": [
        {
          "output_type": "stream",
          "name": "stdout",
          "text": [
            "numeric1\n"
          ]
        },
        {
          "output_type": "execute_result",
          "data": {
            "text/plain": [
              "int"
            ]
          },
          "metadata": {},
          "execution_count": 11
        }
      ]
    },
    {
      "cell_type": "markdown",
      "source": [
        "## 5/6/2024\n",
        "ได้รู้เรื่องของตัวแปลมากขึ้นโดยที่หัวข้อเป็นsuperstarแล้วเรา [6] มันก็จะออกมาเป็น 's' ตัวที่6ของคำ\n",
        "\n"
      ],
      "metadata": {
        "id": "Yf3eoj8oW0Iv"
      }
    },
    {
      "cell_type": "markdown",
      "source": [
        "\n",
        "*   input_การป้อนเข้าสู่เครื่องคอมพิวเตอร์เพื่อที่การประมวลผล\n",
        "*   process_กระบวนการประมวลผลข้อมูล\n",
        "*   output_ส่งออกข้อมูลเป็นตัวP\n",
        "\n",
        "\n",
        "\n",
        "\n"
      ],
      "metadata": {
        "id": "uK2v_Ghrf0JA"
      }
    },
    {
      "cell_type": "code",
      "source": [
        "string1 = 'Python'\n",
        "print(string1[1])"
      ],
      "metadata": {
        "colab": {
          "base_uri": "https://localhost:8080/"
        },
        "id": "OAi2z1B_YeTx",
        "outputId": "481aac1d-4879-47ae-c4ce-edd448157ef4"
      },
      "execution_count": null,
      "outputs": [
        {
          "output_type": "stream",
          "name": "stdout",
          "text": [
            "y\n"
          ]
        }
      ]
    },
    {
      "cell_type": "markdown",
      "source": [
        "# 26/6/2024"
      ],
      "metadata": {
        "id": "PmJwNTK4tzdH"
      }
    },
    {
      "cell_type": "code",
      "source": [
        "name = input(\"TIM\")\n",
        "print(name)"
      ],
      "metadata": {
        "colab": {
          "base_uri": "https://localhost:8080/"
        },
        "id": "Ucr3_wkRt-QP",
        "outputId": "c1c41b04-00e3-4b66-f5fc-60de55d029d3"
      },
      "execution_count": null,
      "outputs": [
        {
          "output_type": "stream",
          "name": "stdout",
          "text": [
            "TIM?L:AMosmkfl;ank;jfb kj HJVWKJFB ijnijOwe\n",
            "?L:AMosmkfl;ank;jfb kj HJVWKJFB ijnijOwe\n"
          ]
        }
      ]
    },
    {
      "cell_type": "code",
      "source": [
        "side = int(input(\"ความยาวด้าน(ชม.)คือ\"))\n",
        "\n",
        "area = side * side\n",
        "\n",
        "print(\"พื้นที่สี่เหี่ยม เท่ากับ \", area, \" ตร.ชม.\")"
      ],
      "metadata": {
        "colab": {
          "base_uri": "https://localhost:8080/"
        },
        "id": "s8etNAVQy4mX",
        "outputId": "a228e047-8fc0-4e34-8ceb-d43935352453"
      },
      "execution_count": null,
      "outputs": [
        {
          "output_type": "stream",
          "name": "stdout",
          "text": [
            "ความยาวด้าน(ชม.)คือ5\n",
            "พื้นที่สี่เหี่ยม เท่ากับ  25  ตร.ชม.\n"
          ]
        }
      ]
    },
    {
      "cell_type": "markdown",
      "source": [
        "## 1/7/2024"
      ],
      "metadata": {
        "id": "QZsmItL_Pz7m"
      }
    },
    {
      "cell_type": "code",
      "source": [
        "long = int(input(\"ความยาวของสีเหลี่ยมผืนผ้า(ชม.))\"))\n",
        "length = int(input(\"ความยาวของสีเหลี่ยมผืนผ้า(ชม.)\"))\n",
        "area = long * length\n",
        "\n",
        "print(\"พื้นที่สี่เหี่ยม เท่ากับ \", area, \" ตร.ชม.\")"
      ],
      "metadata": {
        "colab": {
          "base_uri": "https://localhost:8080/"
        },
        "id": "mEyiACf5P-y2",
        "outputId": "c80415d0-95d4-480f-ca8f-145b5a567fd6"
      },
      "execution_count": null,
      "outputs": [
        {
          "output_type": "stream",
          "name": "stdout",
          "text": [
            "ความยาวของสีเหลี่ยมผืนผ้า(ชม.))25\n",
            "ความยาวของสีเหลี่ยมผืนผ้า(ชม.)25\n",
            "พื้นที่สี่เหี่ยม เท่ากับ  625  ตร.ชม.\n"
          ]
        }
      ]
    },
    {
      "cell_type": "code",
      "source": [
        "S = int(input(\" ระยะทางที่วัตถุเคลื่อนที่(ม.)\"))\n",
        "T = int(input(\"ระยะเวลาที่วัตถุเคลื่อนที่(ว.)\"))\n",
        "V =S/T\n",
        "\n",
        "print(\"ความเร็วของวัตถุเคลื่อนที่(m/s) เท่ากับ \", V, \" m/s\")"
      ],
      "metadata": {
        "colab": {
          "base_uri": "https://localhost:8080/"
        },
        "id": "5Xj0PrdfSOFe",
        "outputId": "78511d35-8d3e-4b2f-c52c-5b2826e0e9b4"
      },
      "execution_count": null,
      "outputs": [
        {
          "output_type": "stream",
          "name": "stdout",
          "text": [
            " ระยะทางที่วัตถุเคลื่อนที่(ม.)8\n",
            "ระยะเวลาที่วัตถุเคลื่อนที่(ว.)8\n",
            "ความเร็วของวัตถุเคลื่อนที่(m/s) เท่ากับ  1.0  m/s\n"
          ]
        }
      ]
    },
    {
      "cell_type": "code",
      "source": [
        "print('super BuiltinMethodType')\n",
        "print('Timza007')\n",
        "name = input(\"name\")\n",
        "print(\"ยินดีต้อนรับสุดหล่อ\" ,name)\n",
        "print ('BMI')\n",
        "weight = float(input('น้ำหนัก(กิโลกรัม) :'))\n",
        "height = float(input('ส่วนสูง(เมตร) :'))\n",
        "cal = weight / (height ** 2)\n",
        "print( f'Your BMI is {cal}')"
      ],
      "metadata": {
        "colab": {
          "base_uri": "https://localhost:8080/",
          "height": 367
        },
        "id": "_abFUWgOXvB9",
        "outputId": "dd600a65-bb7b-4968-bbf8-5ace8503dc51"
      },
      "execution_count": null,
      "outputs": [
        {
          "output_type": "stream",
          "name": "stdout",
          "text": [
            "super BuiltinMethodType\n",
            "Timza007\n",
            "namep\n",
            "ยินดีต้อนรับสุดหล่อ p\n",
            "BMI\n",
            "น้ำหนัก(กิโลกรัม) :90\n",
            "ส่วนสูง(เมตร) :1.7\n",
            "Your BMI is 31.14186851211073\n"
          ]
        },
        {
          "output_type": "error",
          "ename": "NameError",
          "evalue": "name 'BMI' is not defined",
          "traceback": [
            "\u001b[0;31m---------------------------------------------------------------------------\u001b[0m",
            "\u001b[0;31mNameError\u001b[0m                                 Traceback (most recent call last)",
            "\u001b[0;32m<ipython-input-24-fbe776f1b259>\u001b[0m in \u001b[0;36m<cell line: 10>\u001b[0;34m()\u001b[0m\n\u001b[1;32m      8\u001b[0m \u001b[0mcal\u001b[0m \u001b[0;34m=\u001b[0m \u001b[0mweight\u001b[0m \u001b[0;34m/\u001b[0m \u001b[0;34m(\u001b[0m\u001b[0mheight\u001b[0m \u001b[0;34m**\u001b[0m \u001b[0;36m2\u001b[0m\u001b[0;34m)\u001b[0m\u001b[0;34m\u001b[0m\u001b[0;34m\u001b[0m\u001b[0m\n\u001b[1;32m      9\u001b[0m \u001b[0mprint\u001b[0m\u001b[0;34m(\u001b[0m \u001b[0;34mf'Your BMI is {cal}'\u001b[0m\u001b[0;34m)\u001b[0m\u001b[0;34m\u001b[0m\u001b[0;34m\u001b[0m\u001b[0m\n\u001b[0;32m---> 10\u001b[0;31m \u001b[0;32mif\u001b[0m\u001b[0;34m(\u001b[0m\u001b[0mBMI\u001b[0m \u001b[0;34m>\u001b[0m \u001b[0;36m30.0\u001b[0m\u001b[0;34m)\u001b[0m\u001b[0;34m:\u001b[0m\u001b[0;34m\u001b[0m\u001b[0;34m\u001b[0m\u001b[0m\n\u001b[0m\u001b[1;32m     11\u001b[0m   \u001b[0mprint\u001b[0m\u001b[0;34m(\u001b[0m\u001b[0;34m'Dangerous obesity'\u001b[0m\u001b[0;34m)\u001b[0m\u001b[0;34m\u001b[0m\u001b[0;34m\u001b[0m\u001b[0m\n\u001b[1;32m     12\u001b[0m \u001b[0;32melif\u001b[0m\u001b[0;34m(\u001b[0m\u001b[0mBMI\u001b[0m \u001b[0;34m>\u001b[0m \u001b[0;36m25.0\u001b[0m\u001b[0;34m)\u001b[0m\u001b[0;34m:\u001b[0m\u001b[0;34m\u001b[0m\u001b[0;34m\u001b[0m\u001b[0m\n",
            "\u001b[0;31mNameError\u001b[0m: name 'BMI' is not defined"
          ]
        }
      ]
    }
  ]
}